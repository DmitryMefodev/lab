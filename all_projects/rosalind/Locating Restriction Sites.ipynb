{
 "cells": [
  {
   "cell_type": "code",
   "execution_count": 221,
   "id": "d71bc57e-da56-4959-9136-62a36dd5d45f",
   "metadata": {},
   "outputs": [
    {
     "name": "stdout",
     "output_type": "stream",
     "text": [
      "CGCGAGGGCGGTTGCGTGGAAGTATTCCCGAGCTCCCATGTCCCAATATAAAGGGGTTGTACCTCGTGAGTCCCAGGGCCTGCTGTATGCCAGACAGAAGCCAATCATTATGTGGGGATAGTTGGAAGATGTACGGGTCCCACTGTCCCTACGGCGGGGTGGGACGGCATACTGATATTTTATCCAGTTATCGGAACTGACTTAGCTATGTCCTTATTAAGCGAAGTCTGATTCGCAAGTATATGTGTCCCACACCTGTCTCAACACCTGGGGGGCGCTCTTGGGCTGGATACGAAGACGCACCCTCATTGCATATAATTAGGGGCCTTGTGCACCGGTAGGGACCTCCCCACACCACTGGTCTACATCCTACAAGTACACCTGATAACTATGTCCGGCCACCGTCCCAACTGGAGGCTCCACTTCGTAGCTCAGTCCAAAGTACTACTTAAGGCCGGCCCGTACGGGCCTTGAAGCGGATCAGCAGATTAGTTAAGGGGTCACGGAGCATGCCCATCTATCTCGAGTCACACGGAGGTAGGAATGTCAGCATCCTTGAGAAGGTGAGAGGCGCCCCCAGTATTACATGATATTAACCCCATGATTCAATTTCCCTTTGGTAACCGCGGTGATACGCTTGACCCCGTGTCCTGGACGTATGGCTCATAACCCAGTATGGACGAACCGTGATGATGGCTGCGTCTAACTGTATTTCAACTTAGTCGTTGGCGGATGCGCCAAACCCTGGGAACTTCTTTTATATGGACTACTTCGGCATCTCCCATGCCGAGGGTTAACTGCTCGTTCACGCTCTAAGCCGTGGGAAATGAAGCCTGGGCGGCAACGGTGCGCGATACTTCTTGTGGCAAGCCTCTCGCGTTGACCCCTACCTGCCGAGCTGGGGGACCGGCCGGCTGCTCGCCGCG\n"
     ]
    }
   ],
   "source": [
    "string = ''\n",
    "\n",
    "with open('rosalind_revp (1).txt', 'r') as file:\n",
    "    all_strings = file.readlines()\n",
    "    for i in all_strings[1:]:\n",
    "        string += i.rstrip()\n",
    "        \n",
    "#string = 'TCAATGCATGCGGGTCTATATGCAT'\n",
    "antistring = ''\n",
    "\n",
    "for i in string:\n",
    "    if i == 'A':\n",
    "        antistring += 'T'\n",
    "    elif i == 'T':\n",
    "        antistring += 'A'\n",
    "    elif i == 'C':\n",
    "        antistring += 'G'\n",
    "    elif i == 'G':\n",
    "        antistring += 'C'\n",
    "\n",
    "antistring = antistring[::-1]\n",
    "print(string)"
   ]
  },
  {
   "cell_type": "code",
   "execution_count": 225,
   "id": "9f9a2e94-c78d-48e8-b452-ab62a1a158e2",
   "metadata": {},
   "outputs": [
    {
     "name": "stdout",
     "output_type": "stream",
     "text": [
      "1 4 30 6 31 4 37 4 46 4 47 4 59 4 77 4 131 4 175 4 203 6 204 4 217 4 240 4 241 4 275 4 310 4 313 4 314 4 316 6 317 4 324 4 330 6 331 4 334 6 335 4 376 4 395 4 397 4 429 4 441 6 442 4 448 6 449 4 453 4 453 8 454 6 455 4 457 4 458 12 459 10 460 8 461 6 462 4 467 4 479 4 493 4 508 6 509 4 522 6 523 4 570 6 571 4 586 4 590 4 593 4 600 4 608 4 623 8 624 6 625 4 655 4 735 4 759 4 760 4 783 4 793 6 794 4 849 4 850 4 876 4 897 4 907 4 907 8 908 6 909 4 910 6 911 4 923 4\n"
     ]
    }
   ],
   "source": [
    "ans = []\n",
    "\n",
    "for n in range(len(string)):\n",
    "    for l in range(4, min(13, len(string) - n + 1)):\n",
    "        if string[n: n + l] in antistring:\n",
    "            if n == 0 and string[n: n + l] == antistring[-l:]:\n",
    "                ans.append(f'{n + 1} {l}')\n",
    "            elif string[n: n + l] == antistring[-(l + n): - (n)]:\n",
    "                ans.append(f'{n + 1} {l}')\n",
    "\n",
    "print(*[l for l in ans])"
   ]
  },
  {
   "cell_type": "code",
   "execution_count": null,
   "id": "a848448b-63d2-4709-a1cb-4c803a6079c5",
   "metadata": {},
   "outputs": [],
   "source": []
  }
 ],
 "metadata": {
  "kernelspec": {
   "display_name": "Python 3 (ipykernel)",
   "language": "python",
   "name": "python3"
  },
  "language_info": {
   "codemirror_mode": {
    "name": "ipython",
    "version": 3
   },
   "file_extension": ".py",
   "mimetype": "text/x-python",
   "name": "python",
   "nbconvert_exporter": "python",
   "pygments_lexer": "ipython3",
   "version": "3.12.4"
  }
 },
 "nbformat": 4,
 "nbformat_minor": 5
}
