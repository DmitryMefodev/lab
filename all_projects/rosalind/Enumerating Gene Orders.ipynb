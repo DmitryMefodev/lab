{
 "cells": [
  {
   "cell_type": "code",
   "execution_count": 3,
   "id": "f47bb771-d899-49dc-87b8-68ceaa91da0a",
   "metadata": {},
   "outputs": [],
   "source": [
    "from itertools import permutations"
   ]
  },
  {
   "cell_type": "code",
   "execution_count": 37,
   "id": "04732296-a630-4d60-a9e7-24bb3e99bc36",
   "metadata": {},
   "outputs": [
    {
     "name": "stdout",
     "output_type": "stream",
     "text": [
      "8\n",
      "-2 -1\n",
      "-2 1\n",
      "-1 -2\n",
      "-1 2\n",
      "1 -2\n",
      "1 2\n",
      "2 -1\n",
      "2 1\n"
     ]
    }
   ],
   "source": [
    "n = 2\n",
    "x = list(range(-n, 0)) + list(range(1, n + 1))\n",
    "l = list(permutations(x, 2))\n",
    "for i in l:\n",
    "    if i[0] == i[1] or i[0] == - i[1]:\n",
    "        l.remove(i)\n",
    "\n",
    "print(len(l))\n",
    "for i in l:\n",
    "    print(*i)"
   ]
  },
  {
   "cell_type": "code",
   "execution_count": 19,
   "id": "7ab41de2-3cbb-437e-a7f7-02fc4fb7ce56",
   "metadata": {},
   "outputs": [],
   "source": [
    "with open('perm_ans.txt', 'w') as file:\n",
    "    file.write(str(len(l)) + '\\n')\n",
    "    for i in l:\n",
    "        file.write(' '.join(map(str, i)))"
   ]
  },
  {
   "cell_type": "code",
   "execution_count": null,
   "id": "830051ad-927b-4f91-9564-bd4d58983fc8",
   "metadata": {},
   "outputs": [],
   "source": []
  }
 ],
 "metadata": {
  "kernelspec": {
   "display_name": "Python 3 (ipykernel)",
   "language": "python",
   "name": "python3"
  },
  "language_info": {
   "codemirror_mode": {
    "name": "ipython",
    "version": 3
   },
   "file_extension": ".py",
   "mimetype": "text/x-python",
   "name": "python",
   "nbconvert_exporter": "python",
   "pygments_lexer": "ipython3",
   "version": "3.12.4"
  }
 },
 "nbformat": 4,
 "nbformat_minor": 5
}
