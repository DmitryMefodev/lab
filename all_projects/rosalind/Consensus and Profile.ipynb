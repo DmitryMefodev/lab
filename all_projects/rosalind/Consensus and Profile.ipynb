{
 "cells": [
  {
   "cell_type": "code",
   "execution_count": 205,
   "id": "041da824-b322-43c1-8e7d-c4470fe86278",
   "metadata": {},
   "outputs": [],
   "source": [
    "def fasta_reader(name):\n",
    "    with open(f'{name}' + '.txt', 'r') as file:\n",
    "        strings = file.readlines()\n",
    "        DNA_strings = {}\n",
    "        s = ''\n",
    "        for i in strings:\n",
    "            if DNA_strings != {}: \n",
    "                last_key = list(DNA_strings.keys())[-1]\n",
    "                DNA_strings[last_key] = s\n",
    "            if i[0] == '>':\n",
    "                DNA_strings[i.rstrip()] = ''\n",
    "                s = ''\n",
    "            else:\n",
    "                s += i.rstrip()\n",
    "                \n",
    "    return DNA_strings"
   ]
  },
  {
   "cell_type": "code",
   "execution_count": 211,
   "id": "24081858-0106-4eee-9c54-01a14f146f14",
   "metadata": {},
   "outputs": [],
   "source": [
    "DNA_strings = fasta_reader('rosalind_cons (2)')"
   ]
  },
  {
   "cell_type": "code",
   "execution_count": 215,
   "id": "082464b1-f067-408b-a4b1-20b698b78a92",
   "metadata": {},
   "outputs": [],
   "source": [
    "string_length = len(list(DNA_strings.values())[0])\n",
    "nucleotids = {'A': [0] * string_length, 'C': [0] * string_length, 'G': [0] * string_length, 'T': [0] * string_length}\n",
    "for val in DNA_strings.values():\n",
    "    for i in range(len(val)):\n",
    "        nucl = val[i]\n",
    "        nucleotids[nucl][i] += 1\n",
    "\n",
    "ans = ''\n",
    "for i in range(string_length):\n",
    "    nucleotids_step = {'A': 0, 'C': 0, 'G': 0, 'T': 0}\n",
    "    for key, val in nucleotids.items():\n",
    "        nucleotids_step[key] = val[i]\n",
    "    ans += max(nucleotids, key=nucleotids_step.get)\n",
    "\n",
    "with open('cons_ans.txt', 'w') as file:\n",
    "    file.write(ans + '\\n')\n",
    "    for key, val in nucleotids.items():\n",
    "        file.write(f'{key}: {' '.join(map(str, val))}\\n')"
   ]
  },
  {
   "cell_type": "code",
   "execution_count": null,
   "id": "023091ce-20bf-4d83-9a66-e2ee615f8a47",
   "metadata": {},
   "outputs": [],
   "source": []
  }
 ],
 "metadata": {
  "kernelspec": {
   "display_name": "Python 3 (ipykernel)",
   "language": "python",
   "name": "python3"
  },
  "language_info": {
   "codemirror_mode": {
    "name": "ipython",
    "version": 3
   },
   "file_extension": ".py",
   "mimetype": "text/x-python",
   "name": "python",
   "nbconvert_exporter": "python",
   "pygments_lexer": "ipython3",
   "version": "3.12.4"
  }
 },
 "nbformat": 4,
 "nbformat_minor": 5
}
