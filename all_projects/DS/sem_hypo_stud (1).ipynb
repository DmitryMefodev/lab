{
 "cells": [
  {
   "cell_type": "code",
   "execution_count": 1,
   "id": "d8af42d7",
   "metadata": {
    "id": "d8af42d7"
   },
   "outputs": [],
   "source": [
    "import numpy as np\n",
    "import random\n",
    "import scipy.stats as sps\n",
    "import pandas as pd\n",
    "\n",
    "import matplotlib.pyplot as plt\n",
    "import seaborn as sns\n",
    "sns.set(font_scale=1.8)"
   ]
  },
  {
   "cell_type": "code",
   "execution_count": 2,
   "id": "a33f628e",
   "metadata": {
    "id": "a33f628e"
   },
   "outputs": [],
   "source": [
    "# зафиксируем сид для воспроизводимости генерации\n",
    "SEED = 42\n",
    "np.random.seed(SEED)\n",
    "random.seed(SEED)"
   ]
  },
  {
   "cell_type": "markdown",
   "id": "b68a7039",
   "metadata": {
    "id": "b68a7039"
   },
   "source": [
    "# Проверка гипотез"
   ]
  },
  {
   "cell_type": "markdown",
   "id": "95148281",
   "metadata": {
    "id": "95148281"
   },
   "source": [
    "В данной задаче вам предлагается изучить основы работы с критериями при проверке различных гипотез."
   ]
  },
  {
   "cell_type": "markdown",
   "id": "c5872781",
   "metadata": {
    "id": "c5872781"
   },
   "source": [
    "## Построение критерия\n",
    "\n",
    "Будем рассматривать выборку из нормального распределения $\\mathcal{N}(\\theta, 1)$. Необходимо провести проверку гипотезы равенства параметра распределения нулю с двусторонней альтернативой $\\mathsf{H}_0\\colon \\theta = 0$ vs. $\\mathsf{H}_1\\colon \\theta \\neq 0$.\n",
    "\n",
    "Как строить критерии в общем случае вы узнаете позже. А для начала попробуем построить критерий \"из здравого смысла\". На предыдущих лекциях вы учились строить доверительные интервалы для выборочного среднего, которое является асимптотически нормально оценкой матожидания случайной величины.\n",
    "\n",
    "В случае нормального распределения и известной $\\sigma = 1$ на лекции получали ТДИ с уровнем доверия $\\alpha_{int}$: $$\\left(\\overline{X} - \\frac{z_{\\frac{1+\\alpha_{int}}{2}}}{\\sqrt{n}}, \\overline{X} + \\frac{z_{\\frac{1+\\alpha_{int}}{2}}}{\\sqrt{n}}\\right)$$\n",
    "\n",
    "Здесь использован тот факт, что среднее $n$ случайных величин, полученных из $\\mathcal{N}(\\theta, 1)$, имеет нормальное распределение $\\mathcal{N}(\\theta, \\frac{1}{n})$."
   ]
  },
  {
   "cell_type": "markdown",
   "id": "6569666e",
   "metadata": {
    "id": "6569666e"
   },
   "source": [
    "Зная этот факт, мы можем попробовать использовать следующий критерий для проверки гипотезы $\\mathsf{H}_0\\colon \\theta = 0$ vs. $\\mathsf{H}_1\\colon \\theta \\neq 0$:\n",
    "$$S=\\left\\{ 0 \\notin \\left(\\overline{X} - \\frac{z_{\\frac{1+\\alpha_{int}}{2}}}{\\sqrt{n}}, \\overline{X} + \\frac{z_{\\frac{1+\\alpha_{int}}{2}}}{\\sqrt{n}}\\right)\\right\\}$$\n",
    "\n",
    "Таким образом, при получении выборки $X$ проверка $\\mathsf{H}_0$ выглядит следующим образом:\n",
    "\n",
    "$$X \\in S  \\Leftrightarrow\t\\text{0 НЕ лежит в построенном доверительном интервале} \\Leftrightarrow \\mathsf{H}_0 \\text{ отвергается}$$\n",
    "$$X \\notin S  \\Leftrightarrow\t\\text{0 лежит в построенном доверительном интервале} \\Leftrightarrow \\mathsf{H}_0 \\text{ НЕ отвергается}$$\n",
    "\n",
    "Однако, для корректного использования данного критерия необходимо верно подобрать значение $\\alpha_{int}$.\n",
    "\n",
    "**Вопрос**: Какую величину мы ограничиваем при построении критерия? Какое $\\alpha_{int}$ нам нужно взять, чтобы проверить гипотезу на уровне значимости $\\alpha=0.05$?\n",
    "\n",
    "*Подсказка*: $\\alpha_{int}$ определяет вероятность лежать в доверительном интервале"
   ]
  },
  {
   "cell_type": "markdown",
   "id": "c29439fb",
   "metadata": {
    "id": "c29439fb"
   },
   "source": [
    "**Ответ**: 0.95"
   ]
  },
  {
   "cell_type": "markdown",
   "id": "a29b89d3",
   "metadata": {
    "id": "a29b89d3"
   },
   "source": [
    "## Ошибки при проверке гипотез\n",
    "\n",
    "Рассмотрим следующую выборку из нормального распределения $\\mathcal{N}(0, 1)$. Проверьте, выполняется ли для нее придуманный нами критерий."
   ]
  },
  {
   "cell_type": "code",
   "execution_count": 3,
   "id": "7a9d8c4f",
   "metadata": {
    "id": "7a9d8c4f"
   },
   "outputs": [],
   "source": [
    "sample = [-0.82899501, -0.56018104,  0.74729361,  0.61037027, -0.02090159,\n",
    "          0.11732738,  1.2776649 , -0.59157139,  0.54709738, -0.20219265,\n",
    "          -0.2176812 ,  1.09877685,  0.82541635,  0.81350964,  1.30547881,\n",
    "          0.02100384,  0.68195297, -0.31026676,  0.32416635, -0.13014305,\n",
    "          0.09699596,  0.59515703, -0.81822068,  2.09238728, -1.00601738,\n",
    "          -1.21418861,  1.15811087,  0.79166269,  0.62411982,  0.62834551]"
   ]
  },
  {
   "cell_type": "code",
   "execution_count": 4,
   "id": "47856055",
   "metadata": {
    "colab": {
     "base_uri": "https://localhost:8080/"
    },
    "id": "47856055",
    "outputId": "a2fbf90b-c052-45d3-b2dd-313a2feb7bb6"
   },
   "outputs": [
    {
     "data": {
      "text/plain": [
       "(-0.07595622374343147, 0.6397214337434314)"
      ]
     },
     "execution_count": 4,
     "metadata": {},
     "output_type": "execute_result"
    }
   ],
   "source": [
    "n = 30\n",
    "alpha = 0.05\n",
    "z = sps.norm.ppf(1 - alpha/2)\n",
    "\n",
    "theta_hat = np.mean(sample)\n",
    "theta_hat - z  / np.sqrt(n), theta_hat + z / np.sqrt(n)"
   ]
  },
  {
   "cell_type": "markdown",
   "id": "208392db",
   "metadata": {
    "id": "208392db"
   },
   "source": [
    "Отвергается ли гипотеза $\\mathsf{H}_0$ для данной выборки?\n",
    "\n",
    "**Ответ**: нет, потому что 0 лежит в этом интервале\n",
    "\n",
    "Почему это произошло и как называется такая ошибка?"
   ]
  },
  {
   "cell_type": "markdown",
   "id": "29429bca",
   "metadata": {
    "id": "29429bca"
   },
   "source": [
    "**Ответ**: ошибкой в условии"
   ]
  },
  {
   "cell_type": "markdown",
   "id": "80a8283e",
   "metadata": {
    "id": "80a8283e"
   },
   "source": [
    "Теперь рассмотрим выборку, сгенерированную из нормального распределения $\\mathcal{N}(0.5, 1)$. Так как $\\theta \\neq 0$ наш критерий не должен выполняться. Проверьте, дейстивительно ли это так."
   ]
  },
  {
   "cell_type": "code",
   "execution_count": 5,
   "id": "df7947d1",
   "metadata": {
    "id": "df7947d1"
   },
   "outputs": [],
   "source": [
    "sample = [ 0.12452627,  0.95075805,  0.77166076, -1.45365582, -0.49410224,\n",
    "          1.66660296, -0.93194618, -0.42985368,  0.27260541,  1.46066343,\n",
    "          -1.31198164,  0.20520295,  3.19213611,  0.55957285,  0.50613194,\n",
    "          0.05689217, -0.8558408 ,  0.12584525,  0.73918692, -0.05739113,\n",
    "          0.76803961,  0.32823556,  0.05156772, -0.0566054 ,  0.60217298,\n",
    "          2.21606323, -1.02851902, -0.56797192, -0.64263642,  0.95315636]"
   ]
  },
  {
   "cell_type": "code",
   "execution_count": 6,
   "id": "a2a3fe3c",
   "metadata": {
    "colab": {
     "base_uri": "https://localhost:8080/"
    },
    "id": "a2a3fe3c",
    "outputId": "c481ace0-e995-49bb-827f-ab0f3eef290b"
   },
   "outputs": [
    {
     "data": {
      "text/plain": [
       "(-0.1004882860767648, 0.615189371410098)"
      ]
     },
     "execution_count": 6,
     "metadata": {},
     "output_type": "execute_result"
    }
   ],
   "source": [
    "n = 30\n",
    "\n",
    "theta_hat = np.mean(sample)\n",
    "theta_hat - z  / np.sqrt(n), theta_hat + z  / np.sqrt(n)"
   ]
  },
  {
   "cell_type": "markdown",
   "id": "82d9c79e",
   "metadata": {
    "id": "82d9c79e"
   },
   "source": [
    "Отвергается ли гипотеза $\\mathsf{H}_0$ для данной выборки?\n",
    "\n",
    "**Ответ**: нет\n",
    "\n",
    "Почему так произошло и как называетcя такая ошибка?\n"
   ]
  },
  {
   "cell_type": "markdown",
   "id": "76ec760e",
   "metadata": {
    "id": "76ec760e"
   },
   "source": [
    "**Ответ**:"
   ]
  },
  {
   "cell_type": "markdown",
   "id": "a64abbc6",
   "metadata": {
    "id": "a64abbc6"
   },
   "source": [
    "## Мощность критерия\n",
    "\n",
    "Теперь попробуем аналитически вывести мощность получившегося критерия. Для этого вспомним, что мощность является вероятностью выполнения критерия (т.е. $X \\in S$) в случае заведомой верности альтернативной гипотезы $\\mathsf{H}_1\\colon \\theta \\neq 0$.\n",
    "\n",
    "Для выборки из нормального распределения $\\mathcal{N}(\\theta, 1)$ посчитаем вероятность того, что $0$ не попадает в доверительный интервал $\\left(\\overline{X} - \\frac{z_{\\frac{1+\\alpha_{int}}{2}}}{\\sqrt{n}}, \\overline{X} + \\frac{z_{\\frac{1+\\alpha_{int}}{2}}}{\\sqrt{n}}\\right)$.\n",
    "\n",
    "$$P\\left( 0 \\notin \\left(\\overline{X} - \\frac{z_{\\frac{1+\\alpha_{int}}{2}}}{\\sqrt{n}}, \\overline{X} + \\frac{z_{\\frac{1+\\alpha_{int}}{2}}}{\\sqrt{n}}\\right)\\right) = P\\left( \\overline{X} \\notin \\left(- \\frac{z_{\\frac{1+\\alpha_{int}}{2}}}{\\sqrt{n}}, \\frac{z_{\\frac{1+\\alpha_{int}}{2}}}{\\sqrt{n}}\\right)\\right) = 1 - P\\left( \\overline{X} \\in \\left(- \\frac{z_{\\frac{1+\\alpha_{int}}{2}}}{\\sqrt{n}}, \\frac{z_{\\frac{1+\\alpha_{int}}{2}}}{\\sqrt{n}}\\right)\\right)$$\n",
    "\n",
    "Как уже упоминалось в задании выше, $\\overline{X}$ имеет распределение $\\mathcal{N}(\\theta, \\frac{1}{n})$. Зная этот факт, мы можем посчитать вероятность попасть в данный интервал с помощью функции распределения $F$ нормального распределения $\\mathcal{N}(\\theta, \\frac{1}{n})$. Введем также следующие обозначения: $\\alpha = 1-\\alpha_{int}$, $c=\\frac{z_{1-\\frac{\\alpha}{2}}}{\\sqrt{n}}$.\n",
    "\n",
    "$$P\\left( \\overline{X} \\leq - c\\right) = F(-c)$$\n",
    "$$P\\left( \\overline{X} \\leq c\\right) = F(c)$$\n",
    "$$P\\left( \\overline{X} \\in \\left(- c, c\\right)\\right) = F(c)-F(-c)$$\n",
    "\n",
    "И, следовательно, мощность нашего критерия принимает следующий вид: $$\\beta = 1 - F(с) +F(-с)$$\n",
    "\n",
    "где $F$ - функция распределения $\\overline{X}$."
   ]
  },
  {
   "cell_type": "markdown",
   "id": "b54726bc",
   "metadata": {
    "id": "b54726bc"
   },
   "source": [
    "Постройте график полученной мощности критерия для $\\theta \\in [-1, 1]$ при условии, что мы работаем с выборками из 30 элементов и уровнем значимости $0.05$."
   ]
  },
  {
   "cell_type": "code",
   "execution_count": 22,
   "id": "33cc25e8",
   "metadata": {
    "id": "33cc25e8"
   },
   "outputs": [],
   "source": [
    "# Функция для вычисления мощности построенного критерия\n",
    "def get_power(theta, n, c):\n",
    "    \"\"\"\n",
    "    param theta: значение параметра\n",
    "    param n: количество элементов выборки\n",
    "    param с: критическое значение\n",
    "\n",
    "    return beta - мощность критерия\n",
    "    \"\"\"\n",
    "    c = np.abs(c)\n",
    "\n",
    "    # Для подсчета значений функции распределения из beta вам понадобятся функции cdf и sf для распределений из scipy.stats\n",
    "    # ! Не забывайте, что параметр scale нормального распределения sps.norm принимает корень из дисперсии !\n",
    "    beta = 1- sps.norm(theta, 1/np.sqrt(n)).cdf(c)+sps.norm(theta,1/np.sqrt(n)).cdf(-c)\n",
    "\n",
    "    return beta"
   ]
  },
  {
   "cell_type": "code",
   "execution_count": 23,
   "id": "acc085c9",
   "metadata": {
    "colab": {
     "base_uri": "https://localhost:8080/",
     "height": 464
    },
    "id": "acc085c9",
    "outputId": "3982d6ac-e80a-4b1e-c8e6-a62956f00fa0"
   },
   "outputs": [
    {
     "data": {
      "text/plain": [
       "[<matplotlib.lines.Line2D at 0x7a3b99933970>]"
      ]
     },
     "execution_count": 23,
     "metadata": {},
     "output_type": "execute_result"
    },
    {
     "data": {
      "image/png": "[encoded data removed]",
      "text/plain": [
       "<Figure size 640x480 with 1 Axes>"
      ]
     },
     "metadata": {},
     "output_type": "display_data"
    }
   ],
   "source": [
    "n = 30\n",
    "alpha = 0.05\n",
    "\n",
    "# Зададим сетку параметров theta\n",
    "grid = np.linspace(-1, 1, 200)\n",
    "\n",
    "c = (z-alpha/2)/np.sqrt(n)\n",
    "powers = get_power(grid, n, c)\n",
    "plt.plot(grid, powers)"
   ]
  },
  {
   "cell_type": "markdown",
   "id": "8527da80",
   "metadata": {
    "id": "8527da80"
   },
   "source": [
    "Какой вывод можно сделать из графика? Как изменяется значение мощности при удалении от точки $\\theta = 0$?"
   ]
  },
  {
   "cell_type": "markdown",
   "id": "9650b412",
   "metadata": {
    "id": "9650b412"
   },
   "source": [
    "**Ответ**: при приближении тетта по модулю к единице мощность критерия так же стремится к единице(при удалении от нуля растет)"
   ]
  },
  {
   "cell_type": "markdown",
   "id": "c158dfe5",
   "metadata": {
    "id": "c158dfe5"
   },
   "source": [
    "## P-value\n",
    "\n",
    "На лекции вы узнали про p-value &mdash; это минимальный уровень значимости, при котором гипотеза еще может быть отвергнута:\n",
    "\n",
    "$$pvalue = min\\left\\{ \\alpha| X \\in S\\right\\}$$\n",
    "\n",
    "В нашем случае можно формула принимает следующий вид:\n",
    "$$pvalue = min\\left\\{ \\alpha\\:\\bigg|\\:0 \\notin \\left(\\overline{X} - \\frac{z_{1-\\frac{\\alpha}{2}}}{\\sqrt{n}}, \\overline{X} + \\frac{z_{1-\\frac{\\alpha}{2}}}{\\sqrt{n}}\\right)\\right\\}$$"
   ]
  },
  {
   "cell_type": "markdown",
   "id": "b4f10ece",
   "metadata": {
    "id": "b4f10ece"
   },
   "source": [
    "Для имеющейся выборки постройте график факта отвержения нулевой гипотезы нашим критерием в зависимости от уровня значимости $\\alpha \\in (0, 1)$."
   ]
  },
  {
   "cell_type": "code",
   "execution_count": 24,
   "id": "2d4ae8e4",
   "metadata": {
    "id": "2d4ae8e4"
   },
   "outputs": [],
   "source": [
    "# Функция определяющая факт отвержения гипотезы\n",
    "# Выводит 0, если гипотеза была отвергнута, 1 - в противном случае\n",
    "def criterion(sample, alpha=0.05):\n",
    "    t = np.mean(sample)\n",
    "    n = len(sample)\n",
    "    z = sps.norm.ppf(1 - alpha/2)\n",
    "    return 1 - int(t - z  / np.sqrt(n) < 0 < t + z / np.sqrt(n))"
   ]
  },
  {
   "cell_type": "code",
   "execution_count": 25,
   "id": "01a57b1a",
   "metadata": {
    "colab": {
     "base_uri": "https://localhost:8080/",
     "height": 464
    },
    "id": "01a57b1a",
    "outputId": "4aaac069-9c6d-4ed5-947a-fa28694f539f"
   },
   "outputs": [
    {
     "data": {
      "text/plain": [
       "[<matplotlib.lines.Line2D at 0x7a3b997ab400>]"
      ]
     },
     "execution_count": 25,
     "metadata": {},
     "output_type": "execute_result"
    },
    {
     "data": {
      "image/png": "[encoded data removed]",
      "text/plain": [
       "<Figure size 640x480 with 1 Axes>"
      ]
     },
     "metadata": {},
     "output_type": "display_data"
    }
   ],
   "source": [
    "sample = [ 0.12452627,  0.95075805,  0.77166076, -1.45365582, -0.49410224,\n",
    "          1.66660296, -0.93194618, -0.42985368,  0.27260541,  1.46066343,\n",
    "          -1.31198164,  0.20520295,  3.19213611,  0.55957285,  0.50613194,\n",
    "          0.05689217, -0.8558408 ,  0.12584525,  0.73918692, -0.05739113,\n",
    "          0.76803961,  0.32823556,  0.05156772, -0.0566054 ,  0.60217298,\n",
    "          2.21606323, -1.02851902, -0.56797192, -0.64263642,  0.95315636]\n",
    "\n",
    "# Задаем сетку параметров alpha\n",
    "alphas = np.linspace(0, 1, 2000)\n",
    "\n",
    "# Создаем массив, в который будет записывать результат проверки гипотезы в зависимости от alpha\n",
    "is_rejected = []\n",
    "for alpha in alphas:\n",
    "  is_rejected.append(criterion(sample, alpha))\n",
    "\n",
    "plt.plot(alphas, is_rejected)"
   ]
  },
  {
   "cell_type": "markdown",
   "id": "e508146d",
   "metadata": {
    "id": "e508146d"
   },
   "source": [
    "Выведите полученное значение p-value."
   ]
  },
  {
   "cell_type": "code",
   "execution_count": 29,
   "id": "d30f5653",
   "metadata": {
    "colab": {
     "base_uri": "https://localhost:8080/"
    },
    "id": "d30f5653",
    "outputId": "8e6f0959-a945-434c-81ec-f9663bd01171"
   },
   "outputs": [
    {
     "name": "stdout",
     "output_type": "stream",
     "text": [
      "0.15907953976988493\n"
     ]
    }
   ],
   "source": [
    "for i in range(2000):\n",
    "  if is_rejected[i] != 0:\n",
    "    print(alphas[i])\n",
    "    break"
   ]
  },
  {
   "cell_type": "markdown",
   "id": "5d2cd160",
   "metadata": {
    "id": "5d2cd160"
   },
   "source": [
    "# Критерий Вальда\n",
    "\n",
    "Вы провели эксперимент и получили данные из экспоненциального распределения."
   ]
  },
  {
   "cell_type": "code",
   "execution_count": null,
   "id": "288bb6c8",
   "metadata": {
    "id": "288bb6c8"
   },
   "outputs": [],
   "source": [
    "sample = [0.11731702, 0.75253036, 0.32918642, 0.22823564, 0.04240622,\n",
    "          0.04239907, 0.01495969, 0.50280772, 0.22977054, 0.30781252,\n",
    "          0.00519983, 0.87588937, 0.44660739, 0.05967191, 0.05016975,\n",
    "          0.05065286, 0.09068843, 0.18598196, 0.14138427, 0.08605575,\n",
    "          0.23659272, 0.03755863, 0.08637888, 0.1140693 , 0.15223367,\n",
    "          0.384484  , 0.05568397, 0.18050729, 0.22437618, 0.01189096]"
   ]
  },
  {
   "cell_type": "markdown",
   "id": "3750724e",
   "metadata": {
    "id": "3750724e"
   },
   "source": [
    "Вы хотите проверить, является ли это распределение с параметром $\\lambda=2$. Используя Критерий Вальда, сделайте вывод по данному предположению.\n",
    "\n",
    "## Двусторонняя альтернатива\n",
    "$X_1, ... X_n$ - выборка из распределения $Exp(\\theta)$.  \n",
    "Проверьте гипотезу $\\mathsf{H}_0\\colon \\theta = 2$ vs. $\\mathsf{H}_1\\colon \\theta \\neq 2$"
   ]
  },
  {
   "cell_type": "markdown",
   "id": "8c7b51b5",
   "metadata": {
    "id": "8c7b51b5"
   },
   "source": [
    "Из лекции вы узнали про критерий Вальда.\n",
    "Для случая двусторонней альтернативы $\\mathsf{H}_1\\colon \\theta \\neq \\theta_0$ критерий имел следующий вид:\n",
    "$$\\large{S = \\left\\{ \\left|\\sqrt{n} \\frac{\\hat{\\theta} - \\theta_0}{\\hat{\\sigma}} \\right| > z_{1 - \\frac{\\alpha}{2}} \\right\\}}$$\n",
    "\n",
    "где $\\hat{\\theta}$ &mdash; асимптотически нормальная оценка $\\theta$ с асимптотической дисперсией $\\sigma^2(\\theta)$,\n",
    "$\\hat{\\sigma}$ &mdash; состоятельная оценка $\\sigma(\\theta)$.  \n",
    "\n",
    "Эквивалентный асимптотичсекий доверительный интервал для параметра $\\theta$ уровня доверия $1-\\alpha$\n",
    "$$C = \\left( \\hat{\\theta} - \\frac{z_{1-\\alpha/2} \\hat{\\sigma}}{\\sqrt{n}}, \\hat{\\theta} + \\frac{z_{1-\\alpha/2} \\hat{\\sigma}}{\\sqrt{n}}\\right)$$\n",
    "\n",
    "На первой лекции вы получали, что $\\frac{1}{\\overline{X}}$ &mdash; АНО для параметра $\\theta$ c асимптотической дисперсией $\\theta^2$\n",
    "\n",
    "**Выпишите состоятельную оценку дисперсии и статистику критерия Вальда**\n"
   ]
  },
  {
   "cell_type": "markdown",
   "id": "2c159233",
   "metadata": {
    "id": "2c159233"
   },
   "source": [
    "**Ответ:**  <...>  "
   ]
  },
  {
   "cell_type": "markdown",
   "id": "2bc773b6",
   "metadata": {
    "id": "2bc773b6"
   },
   "source": [
    "Первым шагом необходимо выставить уровень значимости, поставим $\\alpha = 0.05$"
   ]
  },
  {
   "cell_type": "code",
   "execution_count": null,
   "id": "be5cf61a",
   "metadata": {
    "id": "be5cf61a"
   },
   "outputs": [],
   "source": [
    "alpha = 0.05\n",
    "theta = 2 # тета из основной гипотезы\n",
    "n = len(sample)"
   ]
  },
  {
   "cell_type": "markdown",
   "id": "70d59930",
   "metadata": {
    "id": "70d59930"
   },
   "source": [
    "Посчитаем квантиль (критическое значение)"
   ]
  },
  {
   "cell_type": "code",
   "execution_count": null,
   "id": "79975154",
   "metadata": {
    "id": "79975154"
   },
   "outputs": [],
   "source": [
    "z = <...>"
   ]
  },
  {
   "cell_type": "markdown",
   "id": "8b7347e7",
   "metadata": {
    "id": "8b7347e7"
   },
   "source": [
    "Посчитайте статистику, которую будете сравнивать с критическим значением. Выведите значение полученной статистики."
   ]
  },
  {
   "cell_type": "code",
   "execution_count": null,
   "id": "e9151269",
   "metadata": {
    "id": "e9151269"
   },
   "outputs": [],
   "source": [
    "statistic = <...>\n",
    "statistic"
   ]
  },
  {
   "cell_type": "markdown",
   "id": "053913f7",
   "metadata": {
    "id": "053913f7"
   },
   "source": [
    "Сравним модуль статистики с критическим значением"
   ]
  },
  {
   "cell_type": "code",
   "execution_count": null,
   "id": "abe37363",
   "metadata": {
    "id": "abe37363"
   },
   "outputs": [],
   "source": [
    "np.absolute(statistic) > z"
   ]
  },
  {
   "cell_type": "markdown",
   "id": "5b1c2f50",
   "metadata": {
    "id": "5b1c2f50"
   },
   "source": [
    "**Какой вывод можно сделать?**"
   ]
  },
  {
   "cell_type": "markdown",
   "id": "4818ef91",
   "metadata": {
    "id": "4818ef91"
   },
   "source": [
    "**Вывод:** <...>"
   ]
  },
  {
   "cell_type": "markdown",
   "id": "5ee180af",
   "metadata": {
    "id": "5ee180af"
   },
   "source": [
    "Посчитайте доверительный интервал"
   ]
  },
  {
   "cell_type": "code",
   "execution_count": null,
   "id": "72dda5b6",
   "metadata": {
    "id": "72dda5b6"
   },
   "outputs": [],
   "source": [
    "<...>"
   ]
  },
  {
   "cell_type": "markdown",
   "id": "74da1af1",
   "metadata": {
    "id": "74da1af1"
   },
   "source": [
    "**Какой вывод можно сделать?**"
   ]
  },
  {
   "cell_type": "markdown",
   "id": "7c3aa8c2",
   "metadata": {
    "id": "7c3aa8c2"
   },
   "source": [
    "**Вывод:** <...>"
   ]
  },
  {
   "cell_type": "markdown",
   "id": "19db4215",
   "metadata": {
    "id": "19db4215"
   },
   "source": [
    "На лекции вы узнали про p-value &mdash; это вероятность получить при справедливости $H_0$ такое значение статистики $t = T(x)$ или еще более экстремальное, то есть в случае двустороннего критерия\n",
    "$$p(x) = \\mathsf{P}_0(T(X) \\geq|t|) + \\mathsf{P}_0(T(X) \\leq -|t|)$$\n",
    "Посчитайте p-value. Для этого можно использовать функции из библиотеки `scipy.stats`."
   ]
  },
  {
   "cell_type": "code",
   "execution_count": null,
   "id": "3c1d41a6",
   "metadata": {
    "id": "3c1d41a6"
   },
   "outputs": [],
   "source": [
    "<...>"
   ]
  },
  {
   "cell_type": "markdown",
   "id": "7516f137",
   "metadata": {
    "id": "7516f137"
   },
   "source": [
    "Оформите подсчет статистики и  p-value в виде одной функции."
   ]
  },
  {
   "cell_type": "code",
   "execution_count": null,
   "id": "f5377845",
   "metadata": {
    "id": "f5377845"
   },
   "outputs": [],
   "source": [
    "def wald_test_two_sided(sample, theta, estimation_theta, estimation_sigma):\n",
    "    \"\"\"\n",
    "    param sample: реализация выборки\n",
    "    param theta: истинное значение параметра\n",
    "    param estimation_theta: оценка параметра\n",
    "    param estimation_sigma: оценка асимптотической дисперсии оценки estimation_sigma\n",
    "\n",
    "    return statistic\n",
    "    return p_value\n",
    "    return conf_int - доверительный интервал\n",
    "    \"\"\"\n",
    "    <...>"
   ]
  },
  {
   "cell_type": "markdown",
   "id": "6b69bc02",
   "metadata": {
    "id": "6b69bc02"
   },
   "source": [
    "Теперь посмотрим на выборку меньших размеров"
   ]
  },
  {
   "cell_type": "code",
   "execution_count": null,
   "id": "edab7886",
   "metadata": {
    "id": "edab7886"
   },
   "outputs": [],
   "source": [
    "sample_cut = [0.11731702, 0.75253036, 0.32918642, 0.22823564, 0.04240622,\n",
    "        0.04239907, 0.01495969, 0.50280772, 0.22977054, 0.30781252]"
   ]
  },
  {
   "cell_type": "markdown",
   "id": "a1e23fef",
   "metadata": {
    "id": "a1e23fef"
   },
   "source": [
    "Выведите статистику, p-value и доверительный интервал. Какой вывод можно сделать из полученных значений?"
   ]
  },
  {
   "cell_type": "code",
   "execution_count": null,
   "id": "62b0c429",
   "metadata": {
    "id": "62b0c429"
   },
   "outputs": [],
   "source": [
    "<...>"
   ]
  },
  {
   "cell_type": "markdown",
   "id": "b3d3d8f5",
   "metadata": {
    "id": "b3d3d8f5"
   },
   "source": [
    "**Вывод:** <...>"
   ]
  }
 ],
 "metadata": {
  "colab": {
   "provenance": []
  },
  "kernelspec": {
   "display_name": "Python 3 (ipykernel)",
   "language": "python",
   "name": "python3"
  },
  "language_info": {
   "codemirror_mode": {
    "name": "ipython",
    "version": 3
   },
   "file_extension": ".py",
   "mimetype": "text/x-python",
   "name": "python",
   "nbconvert_exporter": "python",
   "pygments_lexer": "ipython3",
   "version": "3.11.5"
  }
 },
 "nbformat": 4,
 "nbformat_minor": 5
}
